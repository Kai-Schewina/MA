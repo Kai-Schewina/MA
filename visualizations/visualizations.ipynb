{
 "cells": [
  {
   "cell_type": "code",
   "execution_count": 1,
   "metadata": {
    "collapsed": true
   },
   "outputs": [],
   "source": [
    "from tqdm import tqdm\n",
    "import pandas as pd\n",
    "import seaborn as sns\n",
    "import os\n",
    "import numpy as np\n",
    "import matplotlib.pyplot as plt"
   ]
  },
  {
   "cell_type": "code",
   "execution_count": 2,
   "outputs": [],
   "source": [
    "def get_subjects(path):\n",
    "    if \"train\" in os.listdir(path):\n",
    "        subjects_1 = os.listdir(os.path.join(path, \"train\"))\n",
    "        subjects_1 = [os.path.join(path, \"train\", x) for x in subjects_1 if \".csv\" not in x]\n",
    "\n",
    "        subjects_2 = os.listdir(os.path.join(path, \"test\"))\n",
    "        subjects_2 = [os.path.join(path, \"test\", x) for x in subjects_2 if \".csv\" not in x]\n",
    "\n",
    "        subjects = subjects_1 + subjects_2\n",
    "        del subjects_1\n",
    "        del subjects_2\n",
    "    else:\n",
    "        subjects = os.listdir(path)\n",
    "    return subjects\n",
    "\n",
    "\n",
    "def create_combined_df(subjects):\n",
    "    dfs = []\n",
    "    for subj in tqdm(subjects):\n",
    "        patient_ts_files = list(filter(lambda x: x.find(\"timeseries\") != -1, os.listdir(subj)))\n",
    "        for ts in patient_ts_files:\n",
    "            file = pd.read_csv(os.path.join(subj, ts))\n",
    "            file[\"subject_id\"] = subj\n",
    "            dfs.append(file)\n",
    "    combined = pd.concat(dfs)\n",
    "    return combined"
   ],
   "metadata": {
    "collapsed": false,
    "pycharm": {
     "name": "#%%\n"
    }
   }
  },
  {
   "cell_type": "code",
   "execution_count": 3,
   "outputs": [
    {
     "name": "stderr",
     "output_type": "stream",
     "text": [
      "100%|██████████| 47046/47046 [05:03<00:00, 155.01it/s]\n"
     ]
    }
   ],
   "source": [
    "path = \"../data/output/\"\n",
    "subjects = get_subjects(path)\n",
    "combined_full = create_combined_df(subjects)"
   ],
   "metadata": {
    "collapsed": false,
    "pycharm": {
     "name": "#%%\n"
    }
   }
  },
  {
   "cell_type": "code",
   "execution_count": 4,
   "outputs": [
    {
     "name": "stderr",
     "output_type": "stream",
     "text": [
      "100%|██████████| 571/571 [00:04<00:00, 133.85it/s]\n"
     ]
    }
   ],
   "source": [
    "ards_path = \"../data/ards_icd\"\n",
    "ards_subj = get_subjects(ards_path)\n",
    "combined_ards = create_combined_df(ards_subj)"
   ],
   "metadata": {
    "collapsed": false,
    "pycharm": {
     "name": "#%%\n"
    }
   }
  },
  {
   "cell_type": "code",
   "execution_count": 5,
   "outputs": [],
   "source": [
    "combined_full[\"id\"] = \"All\"\n",
    "combined_ards[\"id\"] = \"ARDS\"\n",
    "combined_all = pd.concat([combined_full, combined_ards])\n",
    "combined_all = combined_all.reset_index()"
   ],
   "metadata": {
    "collapsed": false,
    "pycharm": {
     "name": "#%%\n"
    }
   }
  },
  {
   "cell_type": "code",
   "execution_count": 5,
   "outputs": [],
   "source": [
    "import pickle\n",
    "# with open(\"combined_full.pkl\", \"wb\") as f:\n",
    "#     pickle.dump(combined_full, f)\n",
    "# with open(\"combined_all.pkl\", \"wb\") as f:\n",
    "#     pickle.dump(combined_all, f)\n",
    "# with open(\"combined_ards.pkl\", \"wb\") as f:\n",
    "#     pickle.dump(combined_ards, f)\n",
    "\n",
    "with open(\"combined_full.pkl\", \"rb\") as f:\n",
    "    combined_full = pickle.load(f)\n",
    "with open(\"combined_all.pkl\", \"rb\") as f:\n",
    "    combined_all = pickle.load(f)\n",
    "with open(\"combined_ards.pkl\", \"rb\") as f:\n",
    "    combined_ards = pickle.load(f)"
   ],
   "metadata": {
    "collapsed": false,
    "pycharm": {
     "name": "#%%\n"
    }
   }
  },
  {
   "cell_type": "code",
   "execution_count": 6,
   "outputs": [],
   "source": [
    "cont_dict = {\n",
    "    \"albumin\": [1, 5, 20],\n",
    "    \"bicarbonate\": [0, 50, 20],\n",
    "    \"bilirubin\": [0, 20, 20],\n",
    "    \"creatinine\": [0, 10, 20],\n",
    "    \"diastolic blood pressure\": [25, 125, 20],\n",
    "    \"fraction inspired oxygen\": [0, 1.1, 21],\n",
    "    \"glucose\": [0, 600, 20],\n",
    "    \"heart rate\": [25, 150, 25],\n",
    "    \"height\": [140, 200, 20],\n",
    "    \"hematocrit\": [0, 70, 20],\n",
    "    \"hemoglobin\": [0, 30, 20],\n",
    "    \"lactate\": [0, 15, 20],\n",
    "    \"mean blood pressure\": [50, 150, 20],\n",
    "    \"oxygen saturation\": [90, 101, 20],\n",
    "    \"partial pressure of carbon dioxide\": [20, 100, 20],\n",
    "    \"partial pressure of oxygen\": [0, 500, 20],\n",
    "    \"ph\": [7, 7.6, 10],\n",
    "    \"platelets\": [0, 800, 20],\n",
    "    \"positive end-expiratory pressure\": [5, 25, 20],\n",
    "    \"prothrombin time\": [1, 4, 20],\n",
    "    \"red blood cell count\": [2, 6, 20],\n",
    "    \"red blood cell distribution width\": [10, 30, 20],\n",
    "    \"respiratory rate\": [0, 50, 20],\n",
    "    \"systolic blood pressure\": [50, 200, 20],\n",
    "    \"temperature\": [35, 40, 20],\n",
    "    \"troponin-t\": [0, 5, 20],\n",
    "    \"urine output\": [0, 700, 20],\n",
    "    \"weight\": [0, 250, 20],\n",
    "    \"white blood cell count\": [0, 50, 20],\n",
    "    \"Age\": [20, 100, 20],\n",
    "}\n",
    "\n",
    "discrete_dict = {\n",
    "    \"pulse\",\n",
    "    \"Ethnicity\",\n",
    "    \"Gender\",\n",
    "    \"vent\"\n",
    "}"
   ],
   "metadata": {
    "collapsed": false,
    "pycharm": {
     "name": "#%%\n"
    }
   }
  },
  {
   "cell_type": "code",
   "execution_count": 7,
   "outputs": [],
   "source": [
    "os.makedirs(\"./image_files/\", exist_ok=True)"
   ],
   "metadata": {
    "collapsed": false,
    "pycharm": {
     "name": "#%%\n"
    }
   }
  },
  {
   "cell_type": "code",
   "execution_count": 10,
   "outputs": [],
   "source": [
    "sns.set(font=\"Times New Roman\")\n",
    "sns.set(font_scale=1.5)"
   ],
   "metadata": {
    "collapsed": false,
    "pycharm": {
     "name": "#%%\n"
    }
   }
  },
  {
   "cell_type": "code",
   "execution_count": 12,
   "outputs": [
    {
     "name": "stderr",
     "output_type": "stream",
     "text": [
      "C:\\Users\\Masterarbeit\\PycharmProjects\\Masterthesis\\venv_37\\lib\\site-packages\\ipykernel_launcher.py:4: SettingWithCopyWarning: \n",
      "A value is trying to be set on a copy of a slice from a DataFrame.\n",
      "Try using .loc[row_indexer,col_indexer] = value instead\n",
      "\n",
      "See the caveats in the documentation: https://pandas.pydata.org/pandas-docs/stable/user_guide/indexing.html#returning-a-view-versus-a-copy\n",
      "  after removing the cwd from sys.path.\n",
      "C:\\Users\\Masterarbeit\\PycharmProjects\\Masterthesis\\venv_37\\lib\\site-packages\\ipykernel_launcher.py:4: SettingWithCopyWarning: \n",
      "A value is trying to be set on a copy of a slice from a DataFrame.\n",
      "Try using .loc[row_indexer,col_indexer] = value instead\n",
      "\n",
      "See the caveats in the documentation: https://pandas.pydata.org/pandas-docs/stable/user_guide/indexing.html#returning-a-view-versus-a-copy\n",
      "  after removing the cwd from sys.path.\n",
      "C:\\Users\\Masterarbeit\\PycharmProjects\\Masterthesis\\venv_37\\lib\\site-packages\\ipykernel_launcher.py:4: SettingWithCopyWarning: \n",
      "A value is trying to be set on a copy of a slice from a DataFrame.\n",
      "Try using .loc[row_indexer,col_indexer] = value instead\n",
      "\n",
      "See the caveats in the documentation: https://pandas.pydata.org/pandas-docs/stable/user_guide/indexing.html#returning-a-view-versus-a-copy\n",
      "  after removing the cwd from sys.path.\n",
      "C:\\Users\\Masterarbeit\\PycharmProjects\\Masterthesis\\venv_37\\lib\\site-packages\\ipykernel_launcher.py:4: SettingWithCopyWarning: \n",
      "A value is trying to be set on a copy of a slice from a DataFrame.\n",
      "Try using .loc[row_indexer,col_indexer] = value instead\n",
      "\n",
      "See the caveats in the documentation: https://pandas.pydata.org/pandas-docs/stable/user_guide/indexing.html#returning-a-view-versus-a-copy\n",
      "  after removing the cwd from sys.path.\n",
      "C:\\Users\\Masterarbeit\\PycharmProjects\\Masterthesis\\venv_37\\lib\\site-packages\\ipykernel_launcher.py:4: SettingWithCopyWarning: \n",
      "A value is trying to be set on a copy of a slice from a DataFrame.\n",
      "Try using .loc[row_indexer,col_indexer] = value instead\n",
      "\n",
      "See the caveats in the documentation: https://pandas.pydata.org/pandas-docs/stable/user_guide/indexing.html#returning-a-view-versus-a-copy\n",
      "  after removing the cwd from sys.path.\n",
      "C:\\Users\\Masterarbeit\\PycharmProjects\\Masterthesis\\venv_37\\lib\\site-packages\\ipykernel_launcher.py:4: SettingWithCopyWarning: \n",
      "A value is trying to be set on a copy of a slice from a DataFrame.\n",
      "Try using .loc[row_indexer,col_indexer] = value instead\n",
      "\n",
      "See the caveats in the documentation: https://pandas.pydata.org/pandas-docs/stable/user_guide/indexing.html#returning-a-view-versus-a-copy\n",
      "  after removing the cwd from sys.path.\n",
      "C:\\Users\\Masterarbeit\\PycharmProjects\\Masterthesis\\venv_37\\lib\\site-packages\\ipykernel_launcher.py:4: SettingWithCopyWarning: \n",
      "A value is trying to be set on a copy of a slice from a DataFrame.\n",
      "Try using .loc[row_indexer,col_indexer] = value instead\n",
      "\n",
      "See the caveats in the documentation: https://pandas.pydata.org/pandas-docs/stable/user_guide/indexing.html#returning-a-view-versus-a-copy\n",
      "  after removing the cwd from sys.path.\n",
      "C:\\Users\\Masterarbeit\\PycharmProjects\\Masterthesis\\venv_37\\lib\\site-packages\\ipykernel_launcher.py:4: SettingWithCopyWarning: \n",
      "A value is trying to be set on a copy of a slice from a DataFrame.\n",
      "Try using .loc[row_indexer,col_indexer] = value instead\n",
      "\n",
      "See the caveats in the documentation: https://pandas.pydata.org/pandas-docs/stable/user_guide/indexing.html#returning-a-view-versus-a-copy\n",
      "  after removing the cwd from sys.path.\n",
      "C:\\Users\\Masterarbeit\\PycharmProjects\\Masterthesis\\venv_37\\lib\\site-packages\\ipykernel_launcher.py:4: SettingWithCopyWarning: \n",
      "A value is trying to be set on a copy of a slice from a DataFrame.\n",
      "Try using .loc[row_indexer,col_indexer] = value instead\n",
      "\n",
      "See the caveats in the documentation: https://pandas.pydata.org/pandas-docs/stable/user_guide/indexing.html#returning-a-view-versus-a-copy\n",
      "  after removing the cwd from sys.path.\n",
      "C:\\Users\\Masterarbeit\\PycharmProjects\\Masterthesis\\venv_37\\lib\\site-packages\\ipykernel_launcher.py:4: SettingWithCopyWarning: \n",
      "A value is trying to be set on a copy of a slice from a DataFrame.\n",
      "Try using .loc[row_indexer,col_indexer] = value instead\n",
      "\n",
      "See the caveats in the documentation: https://pandas.pydata.org/pandas-docs/stable/user_guide/indexing.html#returning-a-view-versus-a-copy\n",
      "  after removing the cwd from sys.path.\n",
      "C:\\Users\\Masterarbeit\\PycharmProjects\\Masterthesis\\venv_37\\lib\\site-packages\\ipykernel_launcher.py:4: SettingWithCopyWarning: \n",
      "A value is trying to be set on a copy of a slice from a DataFrame.\n",
      "Try using .loc[row_indexer,col_indexer] = value instead\n",
      "\n",
      "See the caveats in the documentation: https://pandas.pydata.org/pandas-docs/stable/user_guide/indexing.html#returning-a-view-versus-a-copy\n",
      "  after removing the cwd from sys.path.\n",
      "C:\\Users\\Masterarbeit\\PycharmProjects\\Masterthesis\\venv_37\\lib\\site-packages\\ipykernel_launcher.py:4: SettingWithCopyWarning: \n",
      "A value is trying to be set on a copy of a slice from a DataFrame.\n",
      "Try using .loc[row_indexer,col_indexer] = value instead\n",
      "\n",
      "See the caveats in the documentation: https://pandas.pydata.org/pandas-docs/stable/user_guide/indexing.html#returning-a-view-versus-a-copy\n",
      "  after removing the cwd from sys.path.\n",
      "C:\\Users\\Masterarbeit\\PycharmProjects\\Masterthesis\\venv_37\\lib\\site-packages\\ipykernel_launcher.py:4: SettingWithCopyWarning: \n",
      "A value is trying to be set on a copy of a slice from a DataFrame.\n",
      "Try using .loc[row_indexer,col_indexer] = value instead\n",
      "\n",
      "See the caveats in the documentation: https://pandas.pydata.org/pandas-docs/stable/user_guide/indexing.html#returning-a-view-versus-a-copy\n",
      "  after removing the cwd from sys.path.\n",
      "C:\\Users\\Masterarbeit\\PycharmProjects\\Masterthesis\\venv_37\\lib\\site-packages\\ipykernel_launcher.py:4: SettingWithCopyWarning: \n",
      "A value is trying to be set on a copy of a slice from a DataFrame.\n",
      "Try using .loc[row_indexer,col_indexer] = value instead\n",
      "\n",
      "See the caveats in the documentation: https://pandas.pydata.org/pandas-docs/stable/user_guide/indexing.html#returning-a-view-versus-a-copy\n",
      "  after removing the cwd from sys.path.\n",
      "C:\\Users\\Masterarbeit\\PycharmProjects\\Masterthesis\\venv_37\\lib\\site-packages\\ipykernel_launcher.py:4: SettingWithCopyWarning: \n",
      "A value is trying to be set on a copy of a slice from a DataFrame.\n",
      "Try using .loc[row_indexer,col_indexer] = value instead\n",
      "\n",
      "See the caveats in the documentation: https://pandas.pydata.org/pandas-docs/stable/user_guide/indexing.html#returning-a-view-versus-a-copy\n",
      "  after removing the cwd from sys.path.\n",
      "C:\\Users\\Masterarbeit\\PycharmProjects\\Masterthesis\\venv_37\\lib\\site-packages\\ipykernel_launcher.py:4: SettingWithCopyWarning: \n",
      "A value is trying to be set on a copy of a slice from a DataFrame.\n",
      "Try using .loc[row_indexer,col_indexer] = value instead\n",
      "\n",
      "See the caveats in the documentation: https://pandas.pydata.org/pandas-docs/stable/user_guide/indexing.html#returning-a-view-versus-a-copy\n",
      "  after removing the cwd from sys.path.\n",
      "C:\\Users\\Masterarbeit\\PycharmProjects\\Masterthesis\\venv_37\\lib\\site-packages\\ipykernel_launcher.py:4: SettingWithCopyWarning: \n",
      "A value is trying to be set on a copy of a slice from a DataFrame.\n",
      "Try using .loc[row_indexer,col_indexer] = value instead\n",
      "\n",
      "See the caveats in the documentation: https://pandas.pydata.org/pandas-docs/stable/user_guide/indexing.html#returning-a-view-versus-a-copy\n",
      "  after removing the cwd from sys.path.\n",
      "C:\\Users\\Masterarbeit\\PycharmProjects\\Masterthesis\\venv_37\\lib\\site-packages\\ipykernel_launcher.py:4: SettingWithCopyWarning: \n",
      "A value is trying to be set on a copy of a slice from a DataFrame.\n",
      "Try using .loc[row_indexer,col_indexer] = value instead\n",
      "\n",
      "See the caveats in the documentation: https://pandas.pydata.org/pandas-docs/stable/user_guide/indexing.html#returning-a-view-versus-a-copy\n",
      "  after removing the cwd from sys.path.\n",
      "C:\\Users\\Masterarbeit\\PycharmProjects\\Masterthesis\\venv_37\\lib\\site-packages\\ipykernel_launcher.py:4: SettingWithCopyWarning: \n",
      "A value is trying to be set on a copy of a slice from a DataFrame.\n",
      "Try using .loc[row_indexer,col_indexer] = value instead\n",
      "\n",
      "See the caveats in the documentation: https://pandas.pydata.org/pandas-docs/stable/user_guide/indexing.html#returning-a-view-versus-a-copy\n",
      "  after removing the cwd from sys.path.\n",
      "C:\\Users\\Masterarbeit\\PycharmProjects\\Masterthesis\\venv_37\\lib\\site-packages\\ipykernel_launcher.py:4: SettingWithCopyWarning: \n",
      "A value is trying to be set on a copy of a slice from a DataFrame.\n",
      "Try using .loc[row_indexer,col_indexer] = value instead\n",
      "\n",
      "See the caveats in the documentation: https://pandas.pydata.org/pandas-docs/stable/user_guide/indexing.html#returning-a-view-versus-a-copy\n",
      "  after removing the cwd from sys.path.\n",
      "C:\\Users\\Masterarbeit\\PycharmProjects\\Masterthesis\\venv_37\\lib\\site-packages\\ipykernel_launcher.py:4: SettingWithCopyWarning: \n",
      "A value is trying to be set on a copy of a slice from a DataFrame.\n",
      "Try using .loc[row_indexer,col_indexer] = value instead\n",
      "\n",
      "See the caveats in the documentation: https://pandas.pydata.org/pandas-docs/stable/user_guide/indexing.html#returning-a-view-versus-a-copy\n",
      "  after removing the cwd from sys.path.\n",
      "C:\\Users\\Masterarbeit\\PycharmProjects\\Masterthesis\\venv_37\\lib\\site-packages\\ipykernel_launcher.py:4: SettingWithCopyWarning: \n",
      "A value is trying to be set on a copy of a slice from a DataFrame.\n",
      "Try using .loc[row_indexer,col_indexer] = value instead\n",
      "\n",
      "See the caveats in the documentation: https://pandas.pydata.org/pandas-docs/stable/user_guide/indexing.html#returning-a-view-versus-a-copy\n",
      "  after removing the cwd from sys.path.\n",
      "C:\\Users\\Masterarbeit\\PycharmProjects\\Masterthesis\\venv_37\\lib\\site-packages\\ipykernel_launcher.py:4: SettingWithCopyWarning: \n",
      "A value is trying to be set on a copy of a slice from a DataFrame.\n",
      "Try using .loc[row_indexer,col_indexer] = value instead\n",
      "\n",
      "See the caveats in the documentation: https://pandas.pydata.org/pandas-docs/stable/user_guide/indexing.html#returning-a-view-versus-a-copy\n",
      "  after removing the cwd from sys.path.\n",
      "C:\\Users\\Masterarbeit\\PycharmProjects\\Masterthesis\\venv_37\\lib\\site-packages\\ipykernel_launcher.py:4: SettingWithCopyWarning: \n",
      "A value is trying to be set on a copy of a slice from a DataFrame.\n",
      "Try using .loc[row_indexer,col_indexer] = value instead\n",
      "\n",
      "See the caveats in the documentation: https://pandas.pydata.org/pandas-docs/stable/user_guide/indexing.html#returning-a-view-versus-a-copy\n",
      "  after removing the cwd from sys.path.\n",
      "C:\\Users\\Masterarbeit\\PycharmProjects\\Masterthesis\\venv_37\\lib\\site-packages\\ipykernel_launcher.py:4: SettingWithCopyWarning: \n",
      "A value is trying to be set on a copy of a slice from a DataFrame.\n",
      "Try using .loc[row_indexer,col_indexer] = value instead\n",
      "\n",
      "See the caveats in the documentation: https://pandas.pydata.org/pandas-docs/stable/user_guide/indexing.html#returning-a-view-versus-a-copy\n",
      "  after removing the cwd from sys.path.\n",
      "C:\\Users\\Masterarbeit\\PycharmProjects\\Masterthesis\\venv_37\\lib\\site-packages\\ipykernel_launcher.py:4: SettingWithCopyWarning: \n",
      "A value is trying to be set on a copy of a slice from a DataFrame.\n",
      "Try using .loc[row_indexer,col_indexer] = value instead\n",
      "\n",
      "See the caveats in the documentation: https://pandas.pydata.org/pandas-docs/stable/user_guide/indexing.html#returning-a-view-versus-a-copy\n",
      "  after removing the cwd from sys.path.\n",
      "C:\\Users\\Masterarbeit\\PycharmProjects\\Masterthesis\\venv_37\\lib\\site-packages\\ipykernel_launcher.py:4: SettingWithCopyWarning: \n",
      "A value is trying to be set on a copy of a slice from a DataFrame.\n",
      "Try using .loc[row_indexer,col_indexer] = value instead\n",
      "\n",
      "See the caveats in the documentation: https://pandas.pydata.org/pandas-docs/stable/user_guide/indexing.html#returning-a-view-versus-a-copy\n",
      "  after removing the cwd from sys.path.\n",
      "C:\\Users\\Masterarbeit\\PycharmProjects\\Masterthesis\\venv_37\\lib\\site-packages\\ipykernel_launcher.py:4: SettingWithCopyWarning: \n",
      "A value is trying to be set on a copy of a slice from a DataFrame.\n",
      "Try using .loc[row_indexer,col_indexer] = value instead\n",
      "\n",
      "See the caveats in the documentation: https://pandas.pydata.org/pandas-docs/stable/user_guide/indexing.html#returning-a-view-versus-a-copy\n",
      "  after removing the cwd from sys.path.\n",
      "C:\\Users\\Masterarbeit\\PycharmProjects\\Masterthesis\\venv_37\\lib\\site-packages\\ipykernel_launcher.py:4: SettingWithCopyWarning: \n",
      "A value is trying to be set on a copy of a slice from a DataFrame.\n",
      "Try using .loc[row_indexer,col_indexer] = value instead\n",
      "\n",
      "See the caveats in the documentation: https://pandas.pydata.org/pandas-docs/stable/user_guide/indexing.html#returning-a-view-versus-a-copy\n",
      "  after removing the cwd from sys.path.\n",
      "C:\\Users\\Masterarbeit\\PycharmProjects\\Masterthesis\\venv_37\\lib\\site-packages\\ipykernel_launcher.py:4: SettingWithCopyWarning: \n",
      "A value is trying to be set on a copy of a slice from a DataFrame.\n",
      "Try using .loc[row_indexer,col_indexer] = value instead\n",
      "\n",
      "See the caveats in the documentation: https://pandas.pydata.org/pandas-docs/stable/user_guide/indexing.html#returning-a-view-versus-a-copy\n",
      "  after removing the cwd from sys.path.\n"
     ]
    },
    {
     "data": {
      "text/plain": "<Figure size 432x288 with 0 Axes>"
     },
     "metadata": {},
     "output_type": "display_data"
    }
   ],
   "source": [
    "# Continuous Plots\n",
    "for key, value in cont_dict.items():\n",
    "    x = combined_all[[key, \"id\"]]\n",
    "    x[key] = np.clip(x[key], value[0], value[1])\n",
    "    x = x.dropna()\n",
    "    fig = sns.histplot(x, x=key, hue=\"id\", bins=value[2], binrange=[value[0], value[1]], stat=\"proportion\", common_norm=False, element=\"step\")\n",
    "    plt.tight_layout()\n",
    "    plt.savefig(\"./image_files/\" + key + \".png\", dpi=300)\n",
    "    plt.clf()"
   ],
   "metadata": {
    "collapsed": false,
    "pycharm": {
     "name": "#%%\n"
    }
   }
  },
  {
   "cell_type": "code",
   "execution_count": 63,
   "outputs": [
    {
     "data": {
      "text/plain": "<Figure size 388.8x388.8 with 0 Axes>"
     },
     "metadata": {},
     "output_type": "display_data"
    }
   ],
   "source": [
    "df = combined_all[[\"Gender\", \"id\"]]\n",
    "df = df.dropna()\n",
    "df.loc[df[\"Gender\"] == 1.0, \"Gender\"] = \"Female\"\n",
    "df.loc[df[\"Gender\"] == 2.0, \"Gender\"] = \"Male\"\n",
    "df.rename(columns={\"Gender\": \"gender\"}, inplace=True)\n",
    "\n",
    "x, y = 'gender', 'id'\n",
    "\n",
    "(df\n",
    ".groupby(y)[x]\n",
    ".value_counts(normalize=True)\n",
    ".mul(100)\n",
    ".rename('Proportion')\n",
    ".reset_index()\n",
    ".pipe((sns.catplot,'data'), x=x, y='Proportion', hue=y, kind='bar', hue_order=[\"All\", \"ARDS\"], legend=False, height=5.4))\n",
    "plt.legend(loc='upper right')\n",
    "\n",
    "plt.savefig(\"./image_files/\" + \"Gender\" + \".png\", dpi=300)\n",
    "plt.clf()"
   ],
   "metadata": {
    "collapsed": false,
    "pycharm": {
     "name": "#%%\n"
    }
   }
  },
  {
   "cell_type": "code",
   "execution_count": 64,
   "outputs": [
    {
     "data": {
      "text/plain": "<Figure size 720x288 with 0 Axes>"
     },
     "metadata": {},
     "output_type": "display_data"
    },
    {
     "data": {
      "text/plain": "<Figure size 388.8x388.8 with 0 Axes>"
     },
     "metadata": {},
     "output_type": "display_data"
    }
   ],
   "source": [
    "df = combined_all[[\"Ethnicity\", \"id\"]]\n",
    "df = df.dropna()\n",
    "df.loc[df[\"Ethnicity\"] == 1.0, \"Ethnicity\"] = \"Asian\"\n",
    "df.loc[df[\"Ethnicity\"] == 2.0, \"Ethnicity\"] = \"Black\"\n",
    "df.loc[df[\"Ethnicity\"] == 3.0, \"Ethnicity\"] = \"Latino\"\n",
    "df.loc[df[\"Ethnicity\"] == 4.0, \"Ethnicity\"] = \"White\"\n",
    "df.loc[df[\"Ethnicity\"] == 0.0, \"Ethnicity\"] = \"Other\"\n",
    "df.rename(columns={\"Ethnicity\": \"ethnicity\"}, inplace=True)\n",
    "\n",
    "x, y = 'ethnicity', 'id'\n",
    "\n",
    "plt.figure(figsize=(10, 4))\n",
    "(df\n",
    ".groupby(y)[x]\n",
    ".value_counts(normalize=True)\n",
    ".mul(100)\n",
    ".rename('Proportion')\n",
    ".reset_index()\n",
    ".pipe((sns.catplot,'data'), x=x, y='Proportion', hue=y, kind='bar', hue_order=[\"All\", \"ARDS\"], legend=False, height=5.4))\n",
    "plt.legend(loc='upper right')\n",
    "\n",
    "plt.savefig(\"./image_files/\" + \"Ethnicity\" + \".png\", dpi=300)\n",
    "plt.clf()"
   ],
   "metadata": {
    "collapsed": false,
    "pycharm": {
     "name": "#%%\n"
    }
   }
  },
  {
   "cell_type": "code",
   "execution_count": 55,
   "outputs": [],
   "source": [
    "listfile_train = \"../data/in-hospital-mortality_v4/train_listfile.csv\"\n",
    "train_mort = pd.read_csv(listfile_train)\n",
    "listfile_test = \"../data/in-hospital-mortality_v4/test_listfile.csv\"\n",
    "test = pd.read_csv(listfile_test)\n",
    "full_mort = pd.concat([train_mort, test])\n",
    "full_mort[\"id\"] = \"All\"\n",
    "full_mort = full_mort.rename({\"y_true\": \"mortality\"}, axis=1)\n",
    "\n",
    "listfile_train = \"../data/ards_ihm/train_listfile.csv\"\n",
    "train_mort = pd.read_csv(listfile_train)\n",
    "listfile_test = \"../data/ards_ihm/test_listfile.csv\"\n",
    "test = pd.read_csv(listfile_test)\n",
    "ards_mort = pd.concat([train_mort, test])\n",
    "ards_mort[\"id\"] = \"ARDS\"\n",
    "ards_mort = ards_mort.rename({\"y_true\": \"mortality\"}, axis=1)\n",
    "\n",
    "all_mort = pd.concat([full_mort, ards_mort])\n",
    "all_mort = all_mort.reset_index()"
   ],
   "metadata": {
    "collapsed": false,
    "pycharm": {
     "name": "#%%\n"
    }
   }
  },
  {
   "cell_type": "code",
   "execution_count": 65,
   "outputs": [
    {
     "data": {
      "text/plain": "<Figure size 388.8x388.8 with 0 Axes>"
     },
     "metadata": {},
     "output_type": "display_data"
    }
   ],
   "source": [
    "df = all_mort[[\"mortality\", \"id\"]]\n",
    "df = df.dropna()\n",
    "df.loc[df[\"mortality\"] == 0.0, \"mortality\"] = \"survived\"\n",
    "df.loc[df[\"mortality\"] == 1.0, \"mortality\"] = \"died\"\n",
    "\n",
    "x, y = 'mortality', 'id'\n",
    "\n",
    "(df\n",
    ".groupby(y)[x]\n",
    ".value_counts(normalize=True)\n",
    ".mul(100)\n",
    ".rename('Proportion')\n",
    ".reset_index()\n",
    ".pipe((sns.catplot,'data'), x=x, y='Proportion', hue=y, kind='bar', hue_order=[\"All\", \"ARDS\"], legend=False, height=5.4))\n",
    "plt.legend(loc='upper right')\n",
    "plt.tight_layout()\n",
    "plt.savefig(\"./image_files/\" + \"mortality\" + \".png\", dpi=300)\n",
    "plt.clf()"
   ],
   "metadata": {
    "collapsed": false,
    "pycharm": {
     "name": "#%%\n"
    }
   }
  },
  {
   "cell_type": "code",
   "execution_count": 66,
   "outputs": [
    {
     "data": {
      "text/plain": "<Figure size 388.8x388.8 with 0 Axes>"
     },
     "metadata": {},
     "output_type": "display_data"
    }
   ],
   "source": [
    "df = combined_all[[\"pulse\", \"id\"]]\n",
    "df = df.dropna()\n",
    "\n",
    "df.loc[df[\"pulse\"] == 0.0, \"pulse\"] = \"Absent\"\n",
    "df.loc[df[\"pulse\"] == 1.0, \"pulse\"] = \"Difficult\"\n",
    "df.loc[df[\"pulse\"] == 2.0, \"pulse\"] = \"Weak\"\n",
    "df.loc[df[\"pulse\"] == 3.0, \"pulse\"] = \"Doppler\"\n",
    "\n",
    "x, y = 'pulse', 'id'\n",
    "\n",
    "(df\n",
    ".groupby(y)[x]\n",
    ".value_counts(normalize=True)\n",
    ".mul(100)\n",
    ".rename('Proportion')\n",
    ".reset_index()\n",
    ".pipe((sns.catplot,'data'), x=x, y='Proportion', hue=y, kind='bar', hue_order=[\"All\", \"ARDS\"], legend=False, height=5.4))\n",
    "plt.legend(loc='upper right')\n",
    "plt.tight_layout()\n",
    "plt.savefig(\"./image_files/\" + \"pulse\" + \".png\", dpi=300)\n",
    "plt.clf()"
   ],
   "metadata": {
    "collapsed": false,
    "pycharm": {
     "name": "#%%\n"
    }
   }
  },
  {
   "cell_type": "code",
   "execution_count": 67,
   "outputs": [
    {
     "data": {
      "text/plain": "<Figure size 388.8x388.8 with 0 Axes>"
     },
     "metadata": {},
     "output_type": "display_data"
    }
   ],
   "source": [
    "df = combined_all[[\"vent\", \"id\"]]\n",
    "df = df.dropna()\n",
    "\n",
    "df.loc[df[\"vent\"] == 0.0, \"vent\"] = \"None\"\n",
    "df.loc[df[\"vent\"] == 1.0, \"vent\"] = \"Non-Invasive\"\n",
    "df.loc[df[\"vent\"] == 2.0, \"vent\"] = \"Invasive\"\n",
    "\n",
    "x, y = 'vent', 'id'\n",
    "\n",
    "(df\n",
    ".groupby(y)[x]\n",
    ".value_counts(normalize=True)\n",
    ".mul(100)\n",
    ".rename('Proportion')\n",
    ".reset_index()\n",
    ".pipe((sns.catplot,'data'), x=x, y='Proportion', hue=y, kind='bar', hue_order=[\"All\", \"ARDS\"], legend=False, height=5.4))\n",
    "plt.legend(loc='upper right')\n",
    "plt.tight_layout()\n",
    "plt.savefig(\"./image_files/\" + \"vent\" + \".png\", dpi=300)\n",
    "plt.clf()"
   ],
   "metadata": {
    "collapsed": false,
    "pycharm": {
     "name": "#%%\n"
    }
   }
  }
 ],
 "metadata": {
  "kernelspec": {
   "display_name": "Python 3",
   "language": "python",
   "name": "python3"
  },
  "language_info": {
   "codemirror_mode": {
    "name": "ipython",
    "version": 2
   },
   "file_extension": ".py",
   "mimetype": "text/x-python",
   "name": "python",
   "nbconvert_exporter": "python",
   "pygments_lexer": "ipython2",
   "version": "2.7.6"
  }
 },
 "nbformat": 4,
 "nbformat_minor": 0
}