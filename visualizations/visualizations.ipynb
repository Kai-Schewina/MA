{
 "cells": [
  {
   "cell_type": "code",
   "execution_count": 1,
   "metadata": {
    "collapsed": true
   },
   "outputs": [],
   "source": [
    "from tqdm import tqdm\n",
    "import pandas as pd\n",
    "import seaborn as sns\n",
    "import os\n",
    "import numpy as np\n",
    "import matplotlib.pyplot as plt"
   ]
  },
  {
   "cell_type": "code",
   "execution_count": 2,
   "outputs": [],
   "source": [
    "def get_subjects(path):\n",
    "    if \"train\" in os.listdir(path):\n",
    "        subjects_1 = os.listdir(os.path.join(path, \"train\"))\n",
    "        subjects_1 = [os.path.join(path, \"train\", x) for x in subjects_1 if \".csv\" not in x]\n",
    "\n",
    "        subjects_2 = os.listdir(os.path.join(path, \"test\"))\n",
    "        subjects_2 = [os.path.join(path, \"test\", x) for x in subjects_2 if \".csv\" not in x]\n",
    "\n",
    "        subjects = subjects_1 + subjects_2\n",
    "        del subjects_1\n",
    "        del subjects_2\n",
    "    else:\n",
    "        subjects = os.listdir(path)\n",
    "    return subjects\n",
    "\n",
    "\n",
    "def create_combined_df(subjects):\n",
    "    dfs = []\n",
    "    for subj in tqdm(subjects):\n",
    "        patient_ts_files = list(filter(lambda x: x.find(\"timeseries\") != -1, os.listdir(subj)))\n",
    "        for ts in patient_ts_files:\n",
    "            file = pd.read_csv(os.path.join(subj, ts))\n",
    "            file[\"subject_id\"] = subj\n",
    "            dfs.append(file)\n",
    "    combined = pd.concat(dfs)\n",
    "    return combined"
   ],
   "metadata": {
    "collapsed": false,
    "pycharm": {
     "name": "#%%\n"
    }
   }
  },
  {
   "cell_type": "code",
   "execution_count": 3,
   "outputs": [
    {
     "name": "stderr",
     "output_type": "stream",
     "text": [
      "100%|██████████| 47046/47046 [05:28<00:00, 143.39it/s]\n"
     ]
    }
   ],
   "source": [
    "path = \"../data/output/\"\n",
    "subjects = get_subjects(path)\n",
    "combined_full = create_combined_df(subjects)"
   ],
   "metadata": {
    "collapsed": false,
    "pycharm": {
     "name": "#%%\n"
    }
   }
  },
  {
   "cell_type": "code",
   "execution_count": 4,
   "outputs": [
    {
     "name": "stderr",
     "output_type": "stream",
     "text": [
      "100%|██████████| 435/435 [00:01<00:00, 239.04it/s]\n"
     ]
    }
   ],
   "source": [
    "ards_path = \"../data/ards_icd\"\n",
    "ards_subj = get_subjects(ards_path)\n",
    "combined_ards = create_combined_df(ards_subj)"
   ],
   "metadata": {
    "collapsed": false,
    "pycharm": {
     "name": "#%%\n"
    }
   }
  },
  {
   "cell_type": "code",
   "execution_count": 5,
   "outputs": [],
   "source": [
    "combined_full[\"id\"] = 0\n",
    "combined_ards[\"id\"] = 1\n",
    "combined_all = pd.concat([combined_full, combined_ards])"
   ],
   "metadata": {
    "collapsed": false,
    "pycharm": {
     "name": "#%%\n"
    }
   }
  },
  {
   "cell_type": "code",
   "execution_count": 6,
   "outputs": [],
   "source": [
    "combined_all[\"creatinine\"] = np.clip(combined_all[\"creatinine\"], 0, 10)"
   ],
   "metadata": {
    "collapsed": false,
    "pycharm": {
     "name": "#%%\n"
    }
   }
  },
  {
   "cell_type": "code",
   "execution_count": 7,
   "outputs": [],
   "source": [
    "cont_dict = {\n",
    "    \"albumin\": [0, 10, 1],\n",
    "    \"bicarbonate\": [0, 50, 5],\n",
    "    \"bilirubin\": [0, 20, 1],\n",
    "    \"creatinine\": [0, 10, 1],\n",
    "    \"diastolic blood pressure\": [0, 200, 25],\n",
    "    \"fraction inspired oxygen\": [0, 1.1, 0.1],\n",
    "    \"glucose\": [0, 600, 50],\n",
    "    \"heart rate\": [0, 200, 10],\n",
    "    \"height\": [120, 200, 10],\n",
    "    \"hematocrit\": [0, 70, 5],\n",
    "    \"hemoglobin\": [0, 30, 2],\n",
    "    \"lactate\": [0, 15, 1],\n",
    "    \"mean blood pressure\": [0, 200, 10],\n",
    "    \"oxygen saturation\": [90, 101, 1],\n",
    "    \"partial pressure of carbon dioxide\": [0, 100, 10],\n",
    "    \"partial pressure of oxygen\": [0, 500, 50],\n",
    "    \"ph\": [6, 8, 0.1],\n",
    "    \"platelets\": [0, 800, 25],\n",
    "    \"positive end-expiratory pressure\": [0, 30, 3],\n",
    "    \"prothrombin time\": [0, 4, 0.2],\n",
    "    \"red blood cell count\": [0, 8, 1],\n",
    "    \"red blood cell distribution width\": [0, 40, 2],\n",
    "    \"respiratory rate\": [0, 50, 5],\n",
    "    \"systolic blood pressure\": [0, 200, 25],\n",
    "    \"temperature\": [34, 40, 1],\n",
    "    \"troponin-t\": [0, 5, 0.5],\n",
    "    \"urine output\": [0, 700, 100],\n",
    "    \"weight\": [0, 300, 20],\n",
    "    \"white blood cell count\": [0, 50, 5],\n",
    "    \"Age\": [20, 100, 10],\n",
    "}\n",
    "\n",
    "discrete_dict = {\n",
    "    \"pulse\",\n",
    "    \"Ethnicity\",\n",
    "    \"Gender\",\n",
    "    \"vent\"\n",
    "}"
   ],
   "metadata": {
    "collapsed": false,
    "pycharm": {
     "name": "#%%\n"
    }
   }
  },
  {
   "cell_type": "code",
   "execution_count": 3,
   "outputs": [],
   "source": [
    "os.makedirs(\"./image_files/\", exist_ok=True)"
   ],
   "metadata": {
    "collapsed": false,
    "pycharm": {
     "name": "#%%\n"
    }
   }
  },
  {
   "cell_type": "code",
   "execution_count": 40,
   "outputs": [
    {
     "data": {
      "text/plain": "<Figure size 432x288 with 0 Axes>"
     },
     "metadata": {},
     "output_type": "display_data"
    }
   ],
   "source": [
    "for key, value in cont_dict.items():\n",
    "    sns.set(style=\"darkgrid\")\n",
    "    combined_full[key] = np.clip(combined_full[key], value[0], value[1])\n",
    "    combined_ards[key] = np.clip(combined_ards[key], value[0], value[1])\n",
    "    fig = sns.kdeplot(x=np.array(combined_full[key]), color = \"r\")\n",
    "    fig = sns.kdeplot(x=np.array(combined_ards[key]), color = \"b\")\n",
    "    plt.xlabel([key], fontsize=10)\n",
    "    plt.legend(title='', loc='upper right', labels=['Full', 'ARDS'])\n",
    "    plt.savefig(\"./image_files/\" + key + \".png\")\n",
    "    plt.clf()"
   ],
   "metadata": {
    "collapsed": false,
    "pycharm": {
     "name": "#%%\n"
    }
   }
  },
  {
   "cell_type": "code",
   "execution_count": 73,
   "outputs": [
    {
     "data": {
      "text/plain": "<Figure size 432x288 with 0 Axes>"
     },
     "metadata": {},
     "output_type": "display_data"
    }
   ],
   "source": [
    "import matplotlib.patches as mpatches\n",
    "\n",
    "x, y, hue = \"Gender\", \"proportion\", \"id\"\n",
    "\n",
    "sns.set(style=\"darkgrid\")\n",
    "\n",
    "(combined_all[x]\n",
    " .groupby(combined_all[hue])\n",
    " .value_counts(normalize=True)\n",
    " .rename(y)\n",
    " .reset_index()\n",
    " .pipe((sns.barplot, \"data\"), x=x, y=y, hue=hue, palette=[\"red\", \"blue\"]))\n",
    "\n",
    "red_patch = mpatches.Patch(color='red')\n",
    "blue_patch = mpatches.Patch(color='blue')\n",
    "plt.legend(title='', loc='upper left', labels=['All', 'ARDS'], labelcolor = [\"red\", \"blue\"], handles=[red_patch, blue_patch])\n",
    "\n",
    "plt.savefig(\"./image_files/Gender.png\")\n",
    "plt.clf()"
   ],
   "metadata": {
    "collapsed": false,
    "pycharm": {
     "name": "#%%\n"
    }
   }
  },
  {
   "cell_type": "code",
   "execution_count": 78,
   "outputs": [
    {
     "data": {
      "text/plain": "<Figure size 432x288 with 0 Axes>"
     },
     "metadata": {},
     "output_type": "display_data"
    }
   ],
   "source": [
    "import matplotlib.patches as mpatches\n",
    "\n",
    "x, y, hue = \"Ethnicity\", \"proportion\", \"id\"\n",
    "\n",
    "sns.set(style=\"darkgrid\")\n",
    "\n",
    "(combined_all[x]\n",
    " .groupby(combined_all[hue])\n",
    " .value_counts(normalize=True)\n",
    " .rename(y)\n",
    " .reset_index()\n",
    " .pipe((sns.barplot, \"data\"), x=x, y=y, hue=hue, palette=[\"red\", \"blue\"]))\n",
    "\n",
    "red_patch = mpatches.Patch(color='red')\n",
    "blue_patch = mpatches.Patch(color='blue')\n",
    "plt.legend(title='', loc='upper left', labels=['All', 'ARDS'], labelcolor = [\"red\", \"blue\"], handles=[red_patch, blue_patch])\n",
    "\n",
    "plt.savefig(\"./image_files/Ethnicity.png\")\n",
    "plt.clf()"
   ],
   "metadata": {
    "collapsed": false,
    "pycharm": {
     "name": "#%%\n"
    }
   }
  },
  {
   "cell_type": "code",
   "execution_count": 79,
   "outputs": [
    {
     "data": {
      "text/plain": "<Figure size 432x288 with 0 Axes>"
     },
     "metadata": {},
     "output_type": "display_data"
    }
   ],
   "source": [
    "import matplotlib.patches as mpatches\n",
    "\n",
    "x, y, hue = \"pulse\", \"proportion\", \"id\"\n",
    "\n",
    "sns.set(style=\"darkgrid\")\n",
    "\n",
    "(combined_all[x]\n",
    " .groupby(combined_all[hue])\n",
    " .value_counts(normalize=True)\n",
    " .rename(y)\n",
    " .reset_index()\n",
    " .pipe((sns.barplot, \"data\"), x=x, y=y, hue=hue, palette=[\"red\", \"blue\"]))\n",
    "\n",
    "red_patch = mpatches.Patch(color='red')\n",
    "blue_patch = mpatches.Patch(color='blue')\n",
    "plt.legend(title='', loc='upper left', labels=['All', 'ARDS'], labelcolor = [\"red\", \"blue\"], handles=[red_patch, blue_patch])\n",
    "\n",
    "plt.savefig(\"./image_files/pulse.png\")\n",
    "plt.clf()"
   ],
   "metadata": {
    "collapsed": false,
    "pycharm": {
     "name": "#%%\n"
    }
   }
  },
  {
   "cell_type": "code",
   "execution_count": 15,
   "outputs": [],
   "source": [
    "listfile_train = \"../data/in-hospital-mortality_v4/train_listfile.csv\"\n",
    "train_mort = pd.read_csv(listfile_train)\n",
    "listfile_test = \"../data/in-hospital-mortality_v4/test_listfile.csv\"\n",
    "test = pd.read_csv(listfile_test)\n",
    "full_mort = pd.concat([train_mort, test])\n",
    "full_mort[\"id\"] = 0\n",
    "full_mort = full_mort.rename({\"y_true\": \"mortality\"}, axis=1)\n",
    "\n",
    "listfile_train = \"../data/ards_ihm/train_listfile.csv\"\n",
    "train_mort = pd.read_csv(listfile_train)\n",
    "listfile_test = \"../data/ards_ihm/test_listfile.csv\"\n",
    "test = pd.read_csv(listfile_test)\n",
    "ards_mort = pd.concat([train_mort, test])\n",
    "ards_mort[\"id\"] = 1\n",
    "ards_mort = ards_mort.rename({\"y_true\": \"mortality\"}, axis=1)\n",
    "\n",
    "all_mort = pd.concat([full_mort, ards_mort])"
   ],
   "metadata": {
    "collapsed": false,
    "pycharm": {
     "name": "#%%\n"
    }
   }
  },
  {
   "cell_type": "code",
   "execution_count": 20,
   "outputs": [
    {
     "data": {
      "text/plain": "<Figure size 432x288 with 0 Axes>"
     },
     "metadata": {},
     "output_type": "display_data"
    }
   ],
   "source": [
    "import matplotlib.patches as mpatches\n",
    "\n",
    "x, y, hue = \"mortality\", \"proportion\", \"id\"\n",
    "\n",
    "sns.set(style=\"darkgrid\")\n",
    "\n",
    "(all_mort[x]\n",
    " .groupby(all_mort[hue])\n",
    " .value_counts(normalize=True)\n",
    " .rename(y)\n",
    " .reset_index()\n",
    " .pipe((sns.barplot, \"data\"), x=x, y=y, hue=hue, palette=[\"red\", \"blue\"]))\n",
    "\n",
    "red_patch = mpatches.Patch(color='red')\n",
    "blue_patch = mpatches.Patch(color='blue')\n",
    "plt.legend(title='', loc='upper left', labels=['All', 'ARDS'], labelcolor = [\"red\", \"blue\"], handles=[red_patch, blue_patch])\n",
    "\n",
    "plt.savefig(\"./image_files/mortality.png\")\n",
    "plt.clf()"
   ],
   "metadata": {
    "collapsed": false,
    "pycharm": {
     "name": "#%%\n"
    }
   }
  },
  {
   "cell_type": "code",
   "execution_count": 9,
   "outputs": [
    {
     "data": {
      "text/plain": "<Figure size 432x288 with 0 Axes>"
     },
     "metadata": {},
     "output_type": "display_data"
    }
   ],
   "source": [
    "import matplotlib.patches as mpatches\n",
    "\n",
    "x, y, hue = \"vent\", \"proportion\", \"id\"\n",
    "\n",
    "sns.set(style=\"darkgrid\")\n",
    "\n",
    "(combined_all[x]\n",
    " .groupby(combined_all[hue])\n",
    " .value_counts(normalize=True)\n",
    " .rename(y)\n",
    " .reset_index()\n",
    " .pipe((sns.barplot, \"data\"), x=x, y=y, hue=hue, palette=[\"red\", \"blue\"]))\n",
    "\n",
    "red_patch = mpatches.Patch(color='red')\n",
    "blue_patch = mpatches.Patch(color='blue')\n",
    "plt.legend(title='', loc='upper left', labels=['All', 'ARDS'], labelcolor = [\"red\", \"blue\"], handles=[red_patch, blue_patch])\n",
    "\n",
    "plt.savefig(\"./image_files/vent.png\")\n",
    "plt.clf()"
   ],
   "metadata": {
    "collapsed": false,
    "pycharm": {
     "name": "#%%\n"
    }
   }
  },
  {
   "cell_type": "code",
   "execution_count": null,
   "outputs": [],
   "source": [],
   "metadata": {
    "collapsed": false,
    "pycharm": {
     "name": "#%%\n"
    }
   }
  }
 ],
 "metadata": {
  "kernelspec": {
   "display_name": "Python 3",
   "language": "python",
   "name": "python3"
  },
  "language_info": {
   "codemirror_mode": {
    "name": "ipython",
    "version": 2
   },
   "file_extension": ".py",
   "mimetype": "text/x-python",
   "name": "python",
   "nbconvert_exporter": "python",
   "pygments_lexer": "ipython2",
   "version": "2.7.6"
  }
 },
 "nbformat": 4,
 "nbformat_minor": 0
}